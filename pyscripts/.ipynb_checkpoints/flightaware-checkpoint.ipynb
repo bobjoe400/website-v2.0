{
 "cells": [
  {
   "cell_type": "code",
   "execution_count": 168,
   "metadata": {
    "scrolled": true
   },
   "outputs": [
    {
     "name": "stdout",
     "output_type": "stream",
     "text": [
      "done\n"
     ]
    }
   ],
   "source": [
    "#!/usr/bin/env python\n",
    "\n",
    "from requests import Session\n",
    "from requests.auth import HTTPBasicAuth\n",
    "from zeep import Client\n",
    "from zeep.transports import Transport\n",
    "from urllib.error import HTTPError\n",
    "from datetime import datetime\n",
    "import mysql.connector\n",
    "\n",
    "mydb = mysql.connector.connect(host='localhost',user='bitch',password='42069xd',database='Airplanes')\n",
    "cursor = mydb.cursor()\n",
    "data = []\n",
    "\n",
    "username = 'bobjoe400'\n",
    "apiKey = open('/var/www/data/apikey').readlines()[0]\n",
    "wsdlFile = 'http://flightxml.flightaware.com/soap/FlightXML2/wsdl'\n",
    "\n",
    "session = Session()\n",
    "session.auth = HTTPBasicAuth(username,apiKey)\n",
    "client = Client(wsdl=wsdlFile,transport=Transport(session=session))\n",
    "\n",
    "def identifierupdate():\n",
    "    grabdata('tail',\"tail <> 'NaN'\")\n",
    "    global data\n",
    "    for i,j in enumerate(data):\n",
    "        try:\n",
    "            ident = client.service.FlightInfo(j,1)['flights'][0]['ident']\n",
    "            if j!=ident:\n",
    "                q = \"UPDATE Airplanes SET ident= %s WHERE tail= %s\"\n",
    "                val = (ident,j)\n",
    "                cursor.execute(q, val)\n",
    "        #goes here if the plane hasn't flown in 3 months\n",
    "        except Exception as e:\n",
    "            print(e)\n",
    "            print('except'+j)\n",
    "    mydb.commit()\n",
    "    mydb.disconnect()\n",
    "    #print(cursor.rowcount,\"record inserted.\")\n",
    "        \n",
    "\n",
    "def databaseupdate():\n",
    "    grabdata('ident','ident IS NOT NULL')\n",
    "    for i in data:\n",
    "        vals=[]\n",
    "        plane = client.service.InFlightInfo(i)\n",
    "        q=\"UPDATE Airplanes set currapt=%s,origin=%s,destination=%s,speed=%s,altitude=%s,latitude=%s,longitude=%s WHERE ident=%s\"\n",
    "        #check if plane has flown recently\n",
    "        if plane['timeout']:\n",
    "            #check if plane is in the air\n",
    "            if (plane['timeout'] != 'timed_out'):\n",
    "                vals.append('In Flight')\n",
    "                vals.append(airport(plane,'origin')[0])\n",
    "                vals.append(airport(plane,'destination')[0])\n",
    "                vals.append(int(plane['groundspeed']))\n",
    "                vals.append(int(plane['altitude'])*100)\n",
    "                vals.append(round(plane['latitude'],2))\n",
    "                vals.append(round(plane['longitude'],2))\n",
    "            else:\n",
    "                currapt = (airport(plane,'origin'),airport(plane,'destination'))[client.service.FlightInfo(i,1)['flights'][0]['actualarrivaltime'] >0]\n",
    "                vals.append(currapt[0])\n",
    "                vals.append('On the ground')\n",
    "                vals.append('On the ground')\n",
    "                vals.append(0)\n",
    "                vals.append(0)\n",
    "                vals.append(round(currapt[1],2))\n",
    "                vals.append(round(currapt[2],2))\n",
    "        else:\n",
    "            plane = client.service.FlightInfo(i,1)['flights'][0]\n",
    "            currapt = airport(plane,'destination')\n",
    "            vals.append(currapt[0])\n",
    "            vals.append('On the ground')\n",
    "            vals.append('On the ground')\n",
    "            vals.append(0)\n",
    "            vals.append(0)\n",
    "            vals.append(round(currapt[1],2))\n",
    "            vals.append(round(currapt[2],2))\n",
    "        vals.append(i)\n",
    "        cursor.execute(q,vals)\n",
    "    mydb.commit()\n",
    "    print(\"done\")\n",
    "    mydb.disconnect()\n",
    "\n",
    "def airport(plane,val):\n",
    "    if len(str(plane[val]))!=4 or str(plane[val]) == 'None':\n",
    "        return('No data',0,0)\n",
    "    else:\n",
    "        apt = client.service.AirportInfo(plane[val]) \n",
    "        return(apt['name'],apt['latitude'],apt['longitude'])\n",
    "def grabdata(column,condition):\n",
    "    global data\n",
    "    #selecting all the flights from the sql database that have a tail number and then cleaning up the output\n",
    "    q = \"UPDATE Airplanes SET currapt=NULL, origin=NULL, destination=NULL, speed=NULL, altitude=NULL, latitude=NULL, longitude=NULL\"\n",
    "    cursor.execute(q)\n",
    "    q = \"SELECT \"+column+\" FROM Airplanes WHERE \"+condition\n",
    "    cursor.execute(q)\n",
    "    newdata = list(cursor.fetchall())\n",
    "    for i,j in enumerate(newdata):\n",
    "        data.append(newdata[i][0])\n",
    "databaseupdate()\n",
    "\n",
    "#todo add new rows to database for departure times and checking if depart is greater than system clock, if it is skip\n",
    "#the update of that plane (as to only update planes in flight) "
   ]
  },
  {
   "cell_type": "code",
   "execution_count": 47,
   "metadata": {},
   "outputs": [
    {
     "name": "stdout",
     "output_type": "stream",
     "text": [
      "1595524534.901666\n"
     ]
    }
   ],
   "source": [
    "print(datetime.now().timestamp())"
   ]
  },
  {
   "cell_type": "code",
   "execution_count": 164,
   "metadata": {
    "scrolled": true
   },
   "outputs": [
    {
     "name": "stdout",
     "output_type": "stream",
     "text": [
      "{\n",
      "    'faFlightID': None,\n",
      "    'ident': 'ETD411',\n",
      "    'prefix': None,\n",
      "    'type': None,\n",
      "    'suffix': None,\n",
      "    'origin': None,\n",
      "    'destination': None,\n",
      "    'timeout': None,\n",
      "    'timestamp': 0,\n",
      "    'departureTime': 0,\n",
      "    'firstPositionTime': 0,\n",
      "    'arrivalTime': 0,\n",
      "    'longitude': 0.0,\n",
      "    'latitude': 0.0,\n",
      "    'lowLongitude': 0.0,\n",
      "    'lowLatitude': 0.0,\n",
      "    'highLongitude': 0.0,\n",
      "    'highLatitude': 0.0,\n",
      "    'groundspeed': 0,\n",
      "    'altitude': 0,\n",
      "    'heading': 0,\n",
      "    'altitudeStatus': None,\n",
      "    'updateType': None,\n",
      "    'altitudeChange': None,\n",
      "    'waypoints': None\n",
      "}\n",
      "('No data', 0, 0)\n"
     ]
    },
    {
     "ename": "Fault",
     "evalue": "NO_DATA unknown airport INVALID",
     "output_type": "error",
     "traceback": [
      "\u001b[0;31m---------------------------------------------------------------------------\u001b[0m",
      "\u001b[0;31mFault\u001b[0m                                     Traceback (most recent call last)",
      "\u001b[0;32m<ipython-input-164-03b3a5bed66a>\u001b[0m in \u001b[0;36m<module>\u001b[0;34m\u001b[0m\n\u001b[1;32m     10\u001b[0m     \u001b[0mprint\u001b[0m\u001b[0;34m(\u001b[0m\u001b[0;36m0\u001b[0m\u001b[0;34m)\u001b[0m\u001b[0;34m\u001b[0m\u001b[0;34m\u001b[0m\u001b[0m\n\u001b[1;32m     11\u001b[0m \u001b[0;32melse\u001b[0m\u001b[0;34m:\u001b[0m\u001b[0;34m\u001b[0m\u001b[0;34m\u001b[0m\u001b[0m\n\u001b[0;32m---> 12\u001b[0;31m     \u001b[0mprint\u001b[0m\u001b[0;34m(\u001b[0m\u001b[0mclient\u001b[0m\u001b[0;34m.\u001b[0m\u001b[0mservice\u001b[0m\u001b[0;34m.\u001b[0m\u001b[0mAirportInfo\u001b[0m\u001b[0;34m(\u001b[0m\u001b[0mcurrapt\u001b[0m\u001b[0;34m)\u001b[0m\u001b[0;34m[\u001b[0m\u001b[0;34m'latitude'\u001b[0m\u001b[0;34m]\u001b[0m\u001b[0;34m)\u001b[0m\u001b[0;34m\u001b[0m\u001b[0;34m\u001b[0m\u001b[0m\n\u001b[0m\u001b[1;32m     13\u001b[0m \u001b[0;31m# print(plane)\u001b[0m\u001b[0;34m\u001b[0m\u001b[0;34m\u001b[0m\u001b[0;34m\u001b[0m\u001b[0m\n\u001b[1;32m     14\u001b[0m \u001b[0;31m# print(len(str(plane['origin'])))\u001b[0m\u001b[0;34m\u001b[0m\u001b[0;34m\u001b[0m\u001b[0;34m\u001b[0m\u001b[0m\n",
      "\u001b[0;32m/var/www/lib/python3.7/site-packages/zeep/proxy.py\u001b[0m in \u001b[0;36m__call__\u001b[0;34m(self, *args, **kwargs)\u001b[0m\n\u001b[1;32m     43\u001b[0m             \u001b[0mself\u001b[0m\u001b[0;34m.\u001b[0m\u001b[0m_op_name\u001b[0m\u001b[0;34m,\u001b[0m\u001b[0;34m\u001b[0m\u001b[0;34m\u001b[0m\u001b[0m\n\u001b[1;32m     44\u001b[0m             \u001b[0margs\u001b[0m\u001b[0;34m,\u001b[0m\u001b[0;34m\u001b[0m\u001b[0;34m\u001b[0m\u001b[0m\n\u001b[0;32m---> 45\u001b[0;31m             \u001b[0mkwargs\u001b[0m\u001b[0;34m,\u001b[0m\u001b[0;34m\u001b[0m\u001b[0;34m\u001b[0m\u001b[0m\n\u001b[0m\u001b[1;32m     46\u001b[0m         )\n\u001b[1;32m     47\u001b[0m \u001b[0;34m\u001b[0m\u001b[0m\n",
      "\u001b[0;32m/var/www/lib/python3.7/site-packages/zeep/wsdl/bindings/soap.py\u001b[0m in \u001b[0;36msend\u001b[0;34m(self, client, options, operation, args, kwargs)\u001b[0m\n\u001b[1;32m    128\u001b[0m             \u001b[0;32mreturn\u001b[0m \u001b[0mresponse\u001b[0m\u001b[0;34m\u001b[0m\u001b[0;34m\u001b[0m\u001b[0m\n\u001b[1;32m    129\u001b[0m \u001b[0;34m\u001b[0m\u001b[0m\n\u001b[0;32m--> 130\u001b[0;31m         \u001b[0;32mreturn\u001b[0m \u001b[0mself\u001b[0m\u001b[0;34m.\u001b[0m\u001b[0mprocess_reply\u001b[0m\u001b[0;34m(\u001b[0m\u001b[0mclient\u001b[0m\u001b[0;34m,\u001b[0m \u001b[0moperation_obj\u001b[0m\u001b[0;34m,\u001b[0m \u001b[0mresponse\u001b[0m\u001b[0;34m)\u001b[0m\u001b[0;34m\u001b[0m\u001b[0;34m\u001b[0m\u001b[0m\n\u001b[0m\u001b[1;32m    131\u001b[0m \u001b[0;34m\u001b[0m\u001b[0m\n\u001b[1;32m    132\u001b[0m     \u001b[0;32mdef\u001b[0m \u001b[0mprocess_reply\u001b[0m\u001b[0;34m(\u001b[0m\u001b[0mself\u001b[0m\u001b[0;34m,\u001b[0m \u001b[0mclient\u001b[0m\u001b[0;34m,\u001b[0m \u001b[0moperation\u001b[0m\u001b[0;34m,\u001b[0m \u001b[0mresponse\u001b[0m\u001b[0;34m)\u001b[0m\u001b[0;34m:\u001b[0m\u001b[0;34m\u001b[0m\u001b[0;34m\u001b[0m\u001b[0m\n",
      "\u001b[0;32m/var/www/lib/python3.7/site-packages/zeep/wsdl/bindings/soap.py\u001b[0m in \u001b[0;36mprocess_reply\u001b[0;34m(self, client, operation, response)\u001b[0m\n\u001b[1;32m    193\u001b[0m         \u001b[0mfault_node\u001b[0m \u001b[0;34m=\u001b[0m \u001b[0mdoc\u001b[0m\u001b[0;34m.\u001b[0m\u001b[0mfind\u001b[0m\u001b[0;34m(\u001b[0m\u001b[0;34m\"soap-env:Body/soap-env:Fault\"\u001b[0m\u001b[0;34m,\u001b[0m \u001b[0mnamespaces\u001b[0m\u001b[0;34m=\u001b[0m\u001b[0mself\u001b[0m\u001b[0;34m.\u001b[0m\u001b[0mnsmap\u001b[0m\u001b[0;34m)\u001b[0m\u001b[0;34m\u001b[0m\u001b[0;34m\u001b[0m\u001b[0m\n\u001b[1;32m    194\u001b[0m         \u001b[0;32mif\u001b[0m \u001b[0mresponse\u001b[0m\u001b[0;34m.\u001b[0m\u001b[0mstatus_code\u001b[0m \u001b[0;34m!=\u001b[0m \u001b[0;36m200\u001b[0m \u001b[0;32mor\u001b[0m \u001b[0mfault_node\u001b[0m \u001b[0;32mis\u001b[0m \u001b[0;32mnot\u001b[0m \u001b[0;32mNone\u001b[0m\u001b[0;34m:\u001b[0m\u001b[0;34m\u001b[0m\u001b[0;34m\u001b[0m\u001b[0m\n\u001b[0;32m--> 195\u001b[0;31m             \u001b[0;32mreturn\u001b[0m \u001b[0mself\u001b[0m\u001b[0;34m.\u001b[0m\u001b[0mprocess_error\u001b[0m\u001b[0;34m(\u001b[0m\u001b[0mdoc\u001b[0m\u001b[0;34m,\u001b[0m \u001b[0moperation\u001b[0m\u001b[0;34m)\u001b[0m\u001b[0;34m\u001b[0m\u001b[0;34m\u001b[0m\u001b[0m\n\u001b[0m\u001b[1;32m    196\u001b[0m \u001b[0;34m\u001b[0m\u001b[0m\n\u001b[1;32m    197\u001b[0m         \u001b[0mresult\u001b[0m \u001b[0;34m=\u001b[0m \u001b[0moperation\u001b[0m\u001b[0;34m.\u001b[0m\u001b[0mprocess_reply\u001b[0m\u001b[0;34m(\u001b[0m\u001b[0mdoc\u001b[0m\u001b[0;34m)\u001b[0m\u001b[0;34m\u001b[0m\u001b[0;34m\u001b[0m\u001b[0m\n",
      "\u001b[0;32m/var/www/lib/python3.7/site-packages/zeep/wsdl/bindings/soap.py\u001b[0m in \u001b[0;36mprocess_error\u001b[0;34m(self, doc, operation)\u001b[0m\n\u001b[1;32m    297\u001b[0m             \u001b[0mcode\u001b[0m\u001b[0;34m=\u001b[0m\u001b[0mget_text\u001b[0m\u001b[0;34m(\u001b[0m\u001b[0;34m\"faultcode\"\u001b[0m\u001b[0;34m)\u001b[0m\u001b[0;34m,\u001b[0m\u001b[0;34m\u001b[0m\u001b[0;34m\u001b[0m\u001b[0m\n\u001b[1;32m    298\u001b[0m             \u001b[0mactor\u001b[0m\u001b[0;34m=\u001b[0m\u001b[0mget_text\u001b[0m\u001b[0;34m(\u001b[0m\u001b[0;34m\"faultactor\"\u001b[0m\u001b[0;34m)\u001b[0m\u001b[0;34m,\u001b[0m\u001b[0;34m\u001b[0m\u001b[0;34m\u001b[0m\u001b[0m\n\u001b[0;32m--> 299\u001b[0;31m             \u001b[0mdetail\u001b[0m\u001b[0;34m=\u001b[0m\u001b[0mfault_node\u001b[0m\u001b[0;34m.\u001b[0m\u001b[0mfind\u001b[0m\u001b[0;34m(\u001b[0m\u001b[0;34m\"detail\"\u001b[0m\u001b[0;34m)\u001b[0m\u001b[0;34m,\u001b[0m\u001b[0;34m\u001b[0m\u001b[0;34m\u001b[0m\u001b[0m\n\u001b[0m\u001b[1;32m    300\u001b[0m         )\n\u001b[1;32m    301\u001b[0m \u001b[0;34m\u001b[0m\u001b[0m\n",
      "\u001b[0;31mFault\u001b[0m: NO_DATA unknown airport INVALID"
     ]
    }
   ],
   "source": [
    "plane = client.service.InFlightInfo('ETD411')\n",
    "print(plane)\n",
    "val = 'origin'\n",
    "currapt = (airport(plane,'origin'),airport(plane,'destination'))[client.service.FlightInfo(plane['ident'],1)['flights'][0]['actualarrivaltime'] >0]\n",
    "print(currapt)\n",
    "# print((client.service.AirportInfo(currapt)['latitude'],0)[currapt == 'No data'])\n",
    "# print((client.service.AirportInfo(plane[val])['name'],'No data')[len(str(plane[val]))!=4 or str(plane[val]) == 'None'])\n",
    "val = 'destination'\n",
    "if currapt == 'No data':\n",
    "    print(0)\n",
    "else:\n",
    "    print(client.service.AirportInfo(currapt)['latitude'])\n",
    "# print(plane)\n",
    "# print(len(str(plane['origin'])))\n",
    "# print(str(plane['destination'])=='None')\n",
    "# print(len(str(plane['origin']))!=4)\n",
    "# coords = (data['waypoints'].split(' ')[-2],data['waypoints'].split(' ')[-1])\n",
    "# print(coords)"
   ]
  },
  {
   "cell_type": "code",
   "execution_count": 170,
   "metadata": {},
   "outputs": [
    {
     "name": "stdout",
     "output_type": "stream",
     "text": [
      "{\n",
      "    'next_offset': -1,\n",
      "    'aircraft': []\n",
      "}\n"
     ]
    }
   ],
   "source": []
  },
  {
   "cell_type": "code",
   "execution_count": 158,
   "metadata": {
    "scrolled": false
   },
   "outputs": [
    {
     "name": "stdout",
     "output_type": "stream",
     "text": [
      "{\n",
      "    'faFlightID': 'NKS922-1595652365-airline-0048',\n",
      "    'ident': 'NKS922',\n",
      "    'prefix': None,\n",
      "    'type': 'A20N',\n",
      "    'suffix': None,\n",
      "    'origin': 'KMYR',\n",
      "    'destination': 'KLGA',\n",
      "    'timeout': 'ok',\n",
      "    'timestamp': 1595878103,\n",
      "    'departureTime': 1595873543,\n",
      "    'firstPositionTime': 1595873543,\n",
      "    'arrivalTime': 0,\n",
      "    'longitude': -73.75141,\n",
      "    'latitude': 40.87845,\n",
      "    'lowLongitude': -78.92544,\n",
      "    'lowLatitude': 33.6467,\n",
      "    'highLongitude': -73.74976,\n",
      "    'highLatitude': 40.87845,\n",
      "    'groundspeed': 196,\n",
      "    'altitude': 25,\n",
      "    'heading': 338,\n",
      "    'altitudeStatus': None,\n",
      "    'updateType': 'TA',\n",
      "    'altitudeChange': 'D',\n",
      "    'waypoints': '33.68 -78.93 33.75 -78.82 33.78 -78.77 33.79 -78.75 33.81 -78.72 33.84 -78.68 33.85 -78.66 33.94 -78.53 34.04 -78.37 34.07 -78.32 34.1 -78.28 34.13 -78.23 34.22 -78.09 34.27 -78 34.35 -77.87 34.43 -77.86 34.44 -77.85 34.53 -77.83 34.7 -77.79 34.71 -77.79 35 -77.71 35.11 -77.69 35.34 -77.63 35.58 -77.57 35.74 -77.53 35.81 -77.51 35.91 -77.49 36.69 -77.28 37.01 -77.2 37.33 -77.12 37.65 -76.88 37.96 -76.65 38.29 -76.4 38.44 -76.26 38.69 -76.02 38.73 -75.99 38.83 -75.89 38.94 -75.79 38.95 -75.79 38.95 -75.78 39.23 -75.52 39.33 -75.43 39.51 -75.27 39.68 -75.11 39.85 -74.96 39.85 -74.96 39.91 -74.91 39.92 -74.9 39.92 -74.9 39.95 -74.86 39.97 -74.83 39.99 -74.79 40.04 -74.74 40.08 -74.67 40.09 -74.65 40.11 -74.63 40.13 -74.61 40.13 -74.6 40.17 -74.54 40.19 -74.51 40.2 -74.5 40.22 -74.47 40.26 -74.42 40.27 -74.41 40.27 -74.41 40.29 -74.39 40.31 -74.36 40.36 -74.3 40.37 -74.28 40.41 -74.24 40.44 -74.19 40.45 -74.18 40.5 -74.12 40.52 -74.09 40.55 -74.07 40.56 -74.06 40.57 -74.05 40.63 -74 40.64 -73.99 40.66 -73.97 40.71 -73.93 40.86 -73.75 40.78 -73.87'\n",
      "}\n",
      "1595878125.332357\n"
     ]
    }
   ],
   "source": [
    "print(client.service.InFlightInfo('NKS922'))\n",
    "print(datetime.now().timestamp())"
   ]
  },
  {
   "cell_type": "code",
   "execution_count": 69,
   "metadata": {},
   "outputs": [
    {
     "name": "stdout",
     "output_type": "stream",
     "text": [
      "{\n",
      "    'faFlightID': 'AAY1161-1595306761-airline-0154',\n",
      "    'ident': 'AAY1161',\n",
      "    'prefix': None,\n",
      "    'type': 'A320',\n",
      "    'suffix': None,\n",
      "    'origin': 'KPSM',\n",
      "    'destination': 'KMYR',\n",
      "    'timeout': 'timed_out',\n",
      "    'timestamp': 1595527298,\n",
      "    'departureTime': 1595520731,\n",
      "    'firstPositionTime': 1595520731,\n",
      "    'arrivalTime': 1595527260,\n",
      "    'longitude': 0.0,\n",
      "    'latitude': 0.0,\n",
      "    'lowLongitude': -78.96608,\n",
      "    'lowLatitude': 33.70335,\n",
      "    'highLongitude': -70.0223,\n",
      "    'highLatitude': 43.19005,\n",
      "    'groundspeed': 0,\n",
      "    'altitude': 0,\n",
      "    'heading': 0,\n",
      "    'altitudeStatus': None,\n",
      "    'updateType': None,\n",
      "    'altitudeChange': None,\n",
      "    'waypoints': '43.08 -70.82 43 -70.72 43 -70.72 42.94 -70.65 42.88 -70.58 42.87 -70.57 42.77 -70.44 42.65 -70.29 42.65 -70.28 42.6 -70.23 42.52 -70.2 42.33 -70.14 42.28 -70.12 42.26 -70.12 42.15 -70.08 42.06 -70.05 42.05 -70.05 41.94 -70.24 41.92 -70.26 41.88 -70.33 41.88 -70.35 41.79 -70.36 41.75 -70.36 41.68 -70.37 41.41 -70.84 41.38 -70.91 41.36 -70.94 41.3 -71.07 41.18 -71.34 41.16 -71.38 41.03 -71.58 40.98 -71.65 40.78 -71.94 40.62 -72.18 39.78 -73.38 39.73 -73.45 39.68 -73.51 39.62 -73.6 38.94 -74.53 38.75 -74.73 38.33 -75.17 37.12 -76.04 36.89 -76.2 35.92 -77.07 35.85 -77.13 35.83 -77.17 35.7 -77.28 35.52 -77.44 35.45 -77.49 35.29 -77.63 35.11 -77.78 35.01 -77.86 34.97 -77.89 34.83 -78.01 34.73 -78.08 34.68 -78.13 34.39 -78.36 34.35 -78.39 34.35 -78.4 34.32 -78.37 34.24 -78.48 34.21 -78.51 34.03 -78.65 33.96 -78.7 33.89 -78.76 33.89 -78.76 33.82 -78.82 33.75 -78.87 33.68 -78.93'\n",
      "}\n"
     ]
    }
   ],
   "source": [
    "print(client.service.InFlightInfo('AAY1161'))"
   ]
  },
  {
   "cell_type": "code",
   "execution_count": 71,
   "metadata": {},
   "outputs": [
    {
     "name": "stdout",
     "output_type": "stream",
     "text": [
      "{\n",
      "    'next_offset': 1,\n",
      "    'flights': [\n",
      "        {\n",
      "            'ident': 'NKS922',\n",
      "            'aircrafttype': '32N',\n",
      "            'filed_ete': '01:30:00',\n",
      "            'filed_time': 1595479565,\n",
      "            'filed_departuretime': 1595700900,\n",
      "            'filed_airspeed_kts': 327,\n",
      "            'filed_airspeed_mach': None,\n",
      "            'filed_altitude': 0,\n",
      "            'route': None,\n",
      "            'actualdeparturetime': 0,\n",
      "            'estimatedarrivaltime': 1595706300,\n",
      "            'actualarrivaltime': 0,\n",
      "            'diverted': None,\n",
      "            'origin': 'KMYR',\n",
      "            'destination': 'KLGA',\n",
      "            'originName': 'Myrtle Beach Intl',\n",
      "            'originCity': 'Myrtle Beach, SC',\n",
      "            'destinationName': 'LaGuardia',\n",
      "            'destinationCity': 'New York, NY'\n",
      "        }\n",
      "    ]\n",
      "}\n"
     ]
    }
   ],
   "source": [
    "print(client.service.FlightInfo('NKS922',1))"
   ]
  },
  {
   "cell_type": "code",
   "execution_count": 72,
   "metadata": {},
   "outputs": [
    {
     "name": "stdout",
     "output_type": "stream",
     "text": [
      "{\n",
      "    'next_offset': 1,\n",
      "    'flights': [\n",
      "        {\n",
      "            'ident': 'AAY1161',\n",
      "            'aircrafttype': 'A320',\n",
      "            'filed_ete': '02:09:00',\n",
      "            'filed_time': 1595520674,\n",
      "            'filed_departuretime': 1595521740,\n",
      "            'filed_airspeed_kts': 460,\n",
      "            'filed_airspeed_mach': None,\n",
      "            'filed_altitude': 380,\n",
      "            'route': 'SCUPP LFV SEY HTO J174 ORF J121 BARTL',\n",
      "            'actualdeparturetime': 1595520731,\n",
      "            'estimatedarrivaltime': 1595527260,\n",
      "            'actualarrivaltime': 1595527260,\n",
      "            'diverted': None,\n",
      "            'origin': 'KPSM',\n",
      "            'destination': 'KMYR',\n",
      "            'originName': 'Portsmouth Intl At Pease',\n",
      "            'originCity': 'Portsmouth, NH',\n",
      "            'destinationName': 'Myrtle Beach Intl',\n",
      "            'destinationCity': 'Myrtle Beach, SC'\n",
      "        }\n",
      "    ]\n",
      "}\n"
     ]
    }
   ],
   "source": [
    "print(client.service.FlightInfo('AAY1161',1))"
   ]
  },
  {
   "cell_type": "code",
   "execution_count": null,
   "metadata": {},
   "outputs": [],
   "source": []
  }
 ],
 "metadata": {
  "kernelspec": {
   "display_name": "Python 3",
   "language": "python",
   "name": "python3"
  },
  "language_info": {
   "codemirror_mode": {
    "name": "ipython",
    "version": 3
   },
   "file_extension": ".py",
   "mimetype": "text/x-python",
   "name": "python",
   "nbconvert_exporter": "python",
   "pygments_lexer": "ipython3",
   "version": "3.7.3"
  }
 },
 "nbformat": 4,
 "nbformat_minor": 4
}
